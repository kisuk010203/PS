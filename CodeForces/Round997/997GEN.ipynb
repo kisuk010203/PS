{
 "cells": [
  {
   "cell_type": "code",
   "execution_count": 11,
   "metadata": {},
   "outputs": [
    {
     "name": "stdout",
     "output_type": "stream",
     "text": [
      "10\n",
      "[(1, 2), (1, 3), (1, 4)]\n",
      "[(1, 2), (1, 4), (3, 4)]\n",
      "[(1, 3), (2, 3), (1, 4)]\n",
      "[(2, 3), (1, 4), (2, 4)]\n",
      "[(1, 4), (2, 4), (3, 4)]\n",
      "5\n"
     ]
    }
   ],
   "source": [
    "import itertools\n",
    "n = int(input())\n",
    "\n",
    "def make_list(n):\n",
    "    if n == 1:\n",
    "        return [(1, 1)]\n",
    "    return make_list(n - 1) + [(i, n) for i in range(1, n + 1)]\n",
    "\n",
    "def is_compatible(seg1, seg2):\n",
    "    if seg1[0] <= seg2[0] and seg1[1] >= seg2[1]:\n",
    "        return True\n",
    "    if seg2[0] <= seg1[0] and seg2[1] >= seg1[1]:\n",
    "        return True\n",
    "    if seg1[0] > seg2[1] or seg2[0] > seg1[1]:\n",
    "        return True\n",
    "    return False\n",
    "\n",
    "\n",
    "\n",
    "def is_all_compatible(segments):\n",
    "    for i in range(len(segments)):\n",
    "        for j in range(i + 1, len(segments)):\n",
    "            if not is_compatible(segments[i], segments[j]):\n",
    "                return False\n",
    "    return True\n",
    "\n",
    "ls = make_list(n)\n",
    "print(len(ls))\n",
    "\n",
    "cnt = 0\n",
    "for segments in itertools.combinations(ls, 2 * n - 1):\n",
    "    if is_all_compatible(segments):\n",
    "        cnt += 1\n",
    "        list_seg = list(segments)\n",
    "        print(list(filter(lambda x : x[0] != x[1], list_seg)))\n",
    "print(cnt)\n"
   ]
  },
  {
   "cell_type": "code",
   "execution_count": null,
   "metadata": {},
   "outputs": [],
   "source": []
  },
  {
   "cell_type": "code",
   "execution_count": null,
   "metadata": {},
   "outputs": [],
   "source": []
  }
 ],
 "metadata": {
  "kernelspec": {
   "display_name": "Python 3",
   "language": "python",
   "name": "python3"
  },
  "language_info": {
   "codemirror_mode": {
    "name": "ipython",
    "version": 3
   },
   "file_extension": ".py",
   "mimetype": "text/x-python",
   "name": "python",
   "nbconvert_exporter": "python",
   "pygments_lexer": "ipython3",
   "version": "3.12.1"
  }
 },
 "nbformat": 4,
 "nbformat_minor": 2
}
